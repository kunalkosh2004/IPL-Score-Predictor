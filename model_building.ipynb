{
 "cells": [
  {
   "cell_type": "code",
   "execution_count": 34,
   "metadata": {},
   "outputs": [],
   "source": [
    "import pandas as pd\n",
    "import numpy as np\n",
    "import pickle"
   ]
  },
  {
   "cell_type": "code",
   "execution_count": 35,
   "metadata": {},
   "outputs": [],
   "source": [
    "df = pickle.load(open('final_data.pkl','rb'))"
   ]
  },
  {
   "cell_type": "code",
   "execution_count": 36,
   "metadata": {},
   "outputs": [
    {
     "data": {
      "text/html": [
       "<div>\n",
       "<style scoped>\n",
       "    .dataframe tbody tr th:only-of-type {\n",
       "        vertical-align: middle;\n",
       "    }\n",
       "\n",
       "    .dataframe tbody tr th {\n",
       "        vertical-align: top;\n",
       "    }\n",
       "\n",
       "    .dataframe thead th {\n",
       "        text-align: right;\n",
       "    }\n",
       "</style>\n",
       "<table border=\"1\" class=\"dataframe\">\n",
       "  <thead>\n",
       "    <tr style=\"text-align: right;\">\n",
       "      <th></th>\n",
       "      <th>batting_team</th>\n",
       "      <th>bowling_team</th>\n",
       "      <th>city</th>\n",
       "      <th>curr_score</th>\n",
       "      <th>balls_left</th>\n",
       "      <th>wickets_left</th>\n",
       "      <th>crr</th>\n",
       "      <th>last_five_runs</th>\n",
       "      <th>runs_x</th>\n",
       "    </tr>\n",
       "  </thead>\n",
       "  <tbody>\n",
       "    <tr>\n",
       "      <th>62720</th>\n",
       "      <td>Mumbai Indians</td>\n",
       "      <td>Sunrisers Hyderabad</td>\n",
       "      <td>Sharjah</td>\n",
       "      <td>48</td>\n",
       "      <td>85</td>\n",
       "      <td>8</td>\n",
       "      <td>8.228571</td>\n",
       "      <td>42.0</td>\n",
       "      <td>208</td>\n",
       "    </tr>\n",
       "    <tr>\n",
       "      <th>71442</th>\n",
       "      <td>Chennai Super Kings</td>\n",
       "      <td>Mumbai Indians</td>\n",
       "      <td>Mumbai</td>\n",
       "      <td>49</td>\n",
       "      <td>87</td>\n",
       "      <td>8</td>\n",
       "      <td>8.909091</td>\n",
       "      <td>44.0</td>\n",
       "      <td>180</td>\n",
       "    </tr>\n",
       "    <tr>\n",
       "      <th>62154</th>\n",
       "      <td>Pune Warriors</td>\n",
       "      <td>Royal Challengers Bangalore</td>\n",
       "      <td>Pune</td>\n",
       "      <td>111</td>\n",
       "      <td>32</td>\n",
       "      <td>7</td>\n",
       "      <td>7.568182</td>\n",
       "      <td>45.0</td>\n",
       "      <td>157</td>\n",
       "    </tr>\n",
       "    <tr>\n",
       "      <th>25599</th>\n",
       "      <td>Chennai Super Kings</td>\n",
       "      <td>Delhi Capitals</td>\n",
       "      <td>Johannesburg</td>\n",
       "      <td>56</td>\n",
       "      <td>80</td>\n",
       "      <td>8</td>\n",
       "      <td>8.400000</td>\n",
       "      <td>40.0</td>\n",
       "      <td>163</td>\n",
       "    </tr>\n",
       "    <tr>\n",
       "      <th>89501</th>\n",
       "      <td>Mumbai Indians</td>\n",
       "      <td>Sunrisers Hyderabad</td>\n",
       "      <td>Mumbai</td>\n",
       "      <td>110</td>\n",
       "      <td>33</td>\n",
       "      <td>6</td>\n",
       "      <td>7.586207</td>\n",
       "      <td>45.0</td>\n",
       "      <td>157</td>\n",
       "    </tr>\n",
       "    <tr>\n",
       "      <th>...</th>\n",
       "      <td>...</td>\n",
       "      <td>...</td>\n",
       "      <td>...</td>\n",
       "      <td>...</td>\n",
       "      <td>...</td>\n",
       "      <td>...</td>\n",
       "      <td>...</td>\n",
       "      <td>...</td>\n",
       "      <td>...</td>\n",
       "    </tr>\n",
       "    <tr>\n",
       "      <th>27251</th>\n",
       "      <td>Royal Challengers Bangalore</td>\n",
       "      <td>Chennai Super Kings</td>\n",
       "      <td>Bengaluru</td>\n",
       "      <td>138</td>\n",
       "      <td>40</td>\n",
       "      <td>8</td>\n",
       "      <td>10.350000</td>\n",
       "      <td>64.0</td>\n",
       "      <td>205</td>\n",
       "    </tr>\n",
       "    <tr>\n",
       "      <th>78175</th>\n",
       "      <td>Kings XI Punjab</td>\n",
       "      <td>Rajasthan Royals</td>\n",
       "      <td>Chandigarh</td>\n",
       "      <td>128</td>\n",
       "      <td>46</td>\n",
       "      <td>8</td>\n",
       "      <td>10.378378</td>\n",
       "      <td>38.0</td>\n",
       "      <td>195</td>\n",
       "    </tr>\n",
       "    <tr>\n",
       "      <th>28596</th>\n",
       "      <td>Chennai Super Kings</td>\n",
       "      <td>Rajasthan Royals</td>\n",
       "      <td>Jaipur</td>\n",
       "      <td>139</td>\n",
       "      <td>20</td>\n",
       "      <td>7</td>\n",
       "      <td>8.340000</td>\n",
       "      <td>30.0</td>\n",
       "      <td>176</td>\n",
       "    </tr>\n",
       "    <tr>\n",
       "      <th>84773</th>\n",
       "      <td>Pune Warriors</td>\n",
       "      <td>Royal Challengers Bangalore</td>\n",
       "      <td>Bangalore</td>\n",
       "      <td>131</td>\n",
       "      <td>35</td>\n",
       "      <td>7</td>\n",
       "      <td>9.247059</td>\n",
       "      <td>46.0</td>\n",
       "      <td>182</td>\n",
       "    </tr>\n",
       "    <tr>\n",
       "      <th>14462</th>\n",
       "      <td>Mumbai Indians</td>\n",
       "      <td>Kolkata Knight Riders</td>\n",
       "      <td>Mumbai</td>\n",
       "      <td>77</td>\n",
       "      <td>54</td>\n",
       "      <td>10</td>\n",
       "      <td>7.000000</td>\n",
       "      <td>36.0</td>\n",
       "      <td>170</td>\n",
       "    </tr>\n",
       "  </tbody>\n",
       "</table>\n",
       "<p>73593 rows × 9 columns</p>\n",
       "</div>"
      ],
      "text/plain": [
       "                      batting_team                 bowling_team          city  \\\n",
       "62720               Mumbai Indians          Sunrisers Hyderabad       Sharjah   \n",
       "71442          Chennai Super Kings               Mumbai Indians        Mumbai   \n",
       "62154                Pune Warriors  Royal Challengers Bangalore          Pune   \n",
       "25599          Chennai Super Kings               Delhi Capitals  Johannesburg   \n",
       "89501               Mumbai Indians          Sunrisers Hyderabad        Mumbai   \n",
       "...                            ...                          ...           ...   \n",
       "27251  Royal Challengers Bangalore          Chennai Super Kings     Bengaluru   \n",
       "78175              Kings XI Punjab             Rajasthan Royals    Chandigarh   \n",
       "28596          Chennai Super Kings             Rajasthan Royals        Jaipur   \n",
       "84773                Pune Warriors  Royal Challengers Bangalore     Bangalore   \n",
       "14462               Mumbai Indians        Kolkata Knight Riders        Mumbai   \n",
       "\n",
       "       curr_score  balls_left  wickets_left        crr  last_five_runs  runs_x  \n",
       "62720          48          85             8   8.228571            42.0     208  \n",
       "71442          49          87             8   8.909091            44.0     180  \n",
       "62154         111          32             7   7.568182            45.0     157  \n",
       "25599          56          80             8   8.400000            40.0     163  \n",
       "89501         110          33             6   7.586207            45.0     157  \n",
       "...           ...         ...           ...        ...             ...     ...  \n",
       "27251         138          40             8  10.350000            64.0     205  \n",
       "78175         128          46             8  10.378378            38.0     195  \n",
       "28596         139          20             7   8.340000            30.0     176  \n",
       "84773         131          35             7   9.247059            46.0     182  \n",
       "14462          77          54            10   7.000000            36.0     170  \n",
       "\n",
       "[73593 rows x 9 columns]"
      ]
     },
     "execution_count": 36,
     "metadata": {},
     "output_type": "execute_result"
    }
   ],
   "source": [
    "df "
   ]
  },
  {
   "cell_type": "code",
   "execution_count": 37,
   "metadata": {},
   "outputs": [],
   "source": [
    "from sklearn.preprocessing import OneHotEncoder\n",
    "from sklearn.compose import ColumnTransformer"
   ]
  },
  {
   "cell_type": "code",
   "execution_count": 38,
   "metadata": {},
   "outputs": [],
   "source": [
    "trf = ColumnTransformer([\n",
    "    ('trf',OneHotEncoder(sparse_output=False,drop='first'),['batting_team','bowling_team','city'])\n",
    "]\n",
    ",remainder='passthrough')"
   ]
  },
  {
   "cell_type": "code",
   "execution_count": 39,
   "metadata": {},
   "outputs": [],
   "source": [
    "from sklearn.preprocessing import StandardScaler\n",
    "from sklearn.pipeline import Pipeline\n",
    "from xgboost import XGBRegressor\n",
    "from sklearn.model_selection import train_test_split\n",
    "from sklearn.svm import SVC"
   ]
  },
  {
   "cell_type": "code",
   "execution_count": 40,
   "metadata": {},
   "outputs": [],
   "source": [
    "X=df.drop(columns=['runs_x'])\n",
    "y=df['runs_x']"
   ]
  },
  {
   "cell_type": "code",
   "execution_count": 41,
   "metadata": {},
   "outputs": [],
   "source": [
    "X_train,X_test,y_train,y_test = train_test_split(X,y,test_size=0.2,random_state=3)"
   ]
  },
  {
   "cell_type": "code",
   "execution_count": 42,
   "metadata": {},
   "outputs": [],
   "source": [
    "pipe= Pipeline(steps=[\n",
    "    ('step1',trf),\n",
    "    ('step2',StandardScaler()),\n",
    "    ('step3',XGBRegressor(n_estimators=500,learning_rate=0.2,max_depth=12,random_state=1))\n",
    "])"
   ]
  },
  {
   "cell_type": "code",
   "execution_count": 43,
   "metadata": {},
   "outputs": [],
   "source": [
    "from sklearn.metrics import r2_score,accuracy_score,mean_absolute_error"
   ]
  },
  {
   "cell_type": "code",
   "execution_count": 44,
   "metadata": {},
   "outputs": [],
   "source": [
    "pipe.fit(X_train,y_train)\n",
    "y_pred = pipe.predict(X_test)"
   ]
  },
  {
   "cell_type": "code",
   "execution_count": 45,
   "metadata": {},
   "outputs": [
    {
     "name": "stdout",
     "output_type": "stream",
     "text": [
      "0.9689000844955444\n",
      "2.5688650938664224\n"
     ]
    }
   ],
   "source": [
    "print(r2_score(y_test,y_pred))\n",
    "print(mean_absolute_error(y_test,y_pred))"
   ]
  },
  {
   "cell_type": "code",
   "execution_count": 46,
   "metadata": {},
   "outputs": [],
   "source": [
    "pickle.dump(pipe,open('final_model.pkl','wb'))"
   ]
  },
  {
   "cell_type": "code",
   "execution_count": null,
   "metadata": {},
   "outputs": [],
   "source": []
  }
 ],
 "metadata": {
  "kernelspec": {
   "display_name": "Python 3",
   "language": "python",
   "name": "python3"
  },
  "language_info": {
   "codemirror_mode": {
    "name": "ipython",
    "version": 3
   },
   "file_extension": ".py",
   "mimetype": "text/x-python",
   "name": "python",
   "nbconvert_exporter": "python",
   "pygments_lexer": "ipython3",
   "version": "3.12.3"
  }
 },
 "nbformat": 4,
 "nbformat_minor": 2
}
