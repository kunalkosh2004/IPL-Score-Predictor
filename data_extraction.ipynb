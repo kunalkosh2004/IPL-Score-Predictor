{
 "cells": [
  {
   "cell_type": "code",
   "execution_count": 1,
   "metadata": {},
   "outputs": [],
   "source": [
    "from yaml import safe_load\n",
    "import os\n",
    "from tqdm import tqdm\n",
    "import yaml"
   ]
  },
  {
   "cell_type": "code",
   "execution_count": 3,
   "metadata": {},
   "outputs": [],
   "source": [
    "filenames = []\n",
    "for file in os.listdir('ipl'):\n",
    "    filenames.append(os.path.join('ipl',file))"
   ]
  },
  {
   "cell_type": "code",
   "execution_count": 4,
   "metadata": {},
   "outputs": [
    {
     "name": "stderr",
     "output_type": "stream",
     "text": [
      " 75%|███████▍  | 609/817 [01:16<00:22,  9.06it/s]"
     ]
    },
    {
     "name": "stdout",
     "output_type": "stream",
     "text": [
      "Error: Unexpected JSON format in file ipl/README.txt. Data type: <class 'str'>\n"
     ]
    },
    {
     "name": "stderr",
     "output_type": "stream",
     "text": [
      "100%|██████████| 817/817 [01:42<00:00,  7.95it/s]\n"
     ]
    }
   ],
   "source": [
    "import yaml\n",
    "import pandas as pd\n",
    "from tqdm import tqdm\n",
    "\n",
    "final_df = pd.DataFrame()\n",
    "counter = 0\n",
    "\n",
    "for file in tqdm(filenames):\n",
    "    with open(file, 'r') as f:\n",
    "        data = yaml.safe_load(f)\n",
    "        \n",
    "        # Handle different data formats\n",
    "        if isinstance(data, list):\n",
    "            # JSON data is a list of dictionaries\n",
    "            df = pd.json_normalize(data)\n",
    "        elif isinstance(data, dict):\n",
    "            # JSON data is a single dictionary\n",
    "            df = pd.json_normalize([data])\n",
    "        elif data is None:\n",
    "            # Handle empty files or null content\n",
    "            print(f\"Warning: File {file} is empty or has null content.\")\n",
    "            continue\n",
    "        else:\n",
    "            # Handle other unexpected formats and log the issue\n",
    "            print(f\"Error: Unexpected JSON format in file {file}. Data type: {type(data)}\")\n",
    "            continue  # Skip this file and move to the next one\n",
    "\n",
    "        # Add match_id and increment the counter\n",
    "        df['match_id'] = counter\n",
    "        final_df = pd.concat([final_df, df], ignore_index=True)\n",
    "        counter += 1\n"
   ]
  },
  {
   "cell_type": "code",
   "execution_count": 10,
   "metadata": {},
   "outputs": [],
   "source": [
    "import pickle"
   ]
  },
  {
   "cell_type": "code",
   "execution_count": 11,
   "metadata": {},
   "outputs": [],
   "source": [
    "pickle.dump(final_df,open('data1.pkl','wb'))"
   ]
  },
  {
   "cell_type": "code",
   "execution_count": null,
   "metadata": {},
   "outputs": [],
   "source": []
  }
 ],
 "metadata": {
  "kernelspec": {
   "display_name": "Python 3",
   "language": "python",
   "name": "python3"
  },
  "language_info": {
   "codemirror_mode": {
    "name": "ipython",
    "version": 3
   },
   "file_extension": ".py",
   "mimetype": "text/x-python",
   "name": "python",
   "nbconvert_exporter": "python",
   "pygments_lexer": "ipython3",
   "version": "3.12.3"
  }
 },
 "nbformat": 4,
 "nbformat_minor": 2
}
